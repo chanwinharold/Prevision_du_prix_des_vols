{
 "cells": [
  {
   "metadata": {},
   "cell_type": "markdown",
   "source": "# Chargement et Exploration données",
   "id": "83c4e77b30319d53"
  },
  {
   "metadata": {
    "ExecuteTime": {
     "end_time": "2025-05-23T16:42:36.703071Z",
     "start_time": "2025-05-23T16:42:36.700940Z"
    }
   },
   "cell_type": "code",
   "source": [
    "# Importation des données\n",
    "import pandas as pd\n",
    "import numpy as np\n",
    "from datetime import datetime"
   ],
   "id": "c183e29c8bc9f59d",
   "outputs": [],
   "execution_count": 24
  },
  {
   "metadata": {},
   "cell_type": "markdown",
   "source": "Pour ce projet, nous disposons de deux jeux de données, `business.csv` et `economy.csv`. Voyons ce qu'ils contiennent",
   "id": "f1756e19ba401c2f"
  },
  {
   "metadata": {
    "ExecuteTime": {
     "end_time": "2025-05-23T16:42:36.947271Z",
     "start_time": "2025-05-23T16:42:36.721294Z"
    }
   },
   "cell_type": "code",
   "source": [
    "df1 = pd.read_csv('../data/business.csv')\n",
    "df2 = pd.read_csv('../data/economy.csv')"
   ],
   "id": "d410e297d4c03168",
   "outputs": [],
   "execution_count": 25
  },
  {
   "metadata": {
    "ExecuteTime": {
     "end_time": "2025-05-23T16:42:36.962332Z",
     "start_time": "2025-05-23T16:42:36.956097Z"
    }
   },
   "cell_type": "code",
   "source": "df1.head()",
   "id": "21a7e05e55b16418",
   "outputs": [
    {
     "data": {
      "text/plain": [
       "         date    airline ch_code  num_code dep_time   from time_taken  \\\n",
       "0  11-02-2022  Air India      AI       868    18:00  Delhi    02h 00m   \n",
       "1  11-02-2022  Air India      AI       624    19:00  Delhi    02h 15m   \n",
       "2  11-02-2022  Air India      AI       531    20:00  Delhi    24h 45m   \n",
       "3  11-02-2022  Air India      AI       839    21:25  Delhi    26h 30m   \n",
       "4  11-02-2022  Air India      AI       544    17:15  Delhi    06h 40m   \n",
       "\n",
       "                                                stop arr_time      to   price  \n",
       "0                                          non-stop     20:00  Mumbai  25,612  \n",
       "1                                          non-stop     21:15  Mumbai  25,612  \n",
       "2  1-stop\\n\\t\\t\\t\\t\\t\\t\\t\\t\\t\\t\\t\\t\\n\\t\\t\\t\\t\\t\\t...    20:45  Mumbai  42,220  \n",
       "3  1-stop\\n\\t\\t\\t\\t\\t\\t\\t\\t\\t\\t\\t\\t\\n\\t\\t\\t\\t\\t\\t...    23:55  Mumbai  44,450  \n",
       "4  1-stop\\n\\t\\t\\t\\t\\t\\t\\t\\t\\t\\t\\t\\t\\n\\t\\t\\t\\t\\t\\t...    23:55  Mumbai  46,690  "
      ],
      "text/html": [
       "<div>\n",
       "<style scoped>\n",
       "    .dataframe tbody tr th:only-of-type {\n",
       "        vertical-align: middle;\n",
       "    }\n",
       "\n",
       "    .dataframe tbody tr th {\n",
       "        vertical-align: top;\n",
       "    }\n",
       "\n",
       "    .dataframe thead th {\n",
       "        text-align: right;\n",
       "    }\n",
       "</style>\n",
       "<table border=\"1\" class=\"dataframe\">\n",
       "  <thead>\n",
       "    <tr style=\"text-align: right;\">\n",
       "      <th></th>\n",
       "      <th>date</th>\n",
       "      <th>airline</th>\n",
       "      <th>ch_code</th>\n",
       "      <th>num_code</th>\n",
       "      <th>dep_time</th>\n",
       "      <th>from</th>\n",
       "      <th>time_taken</th>\n",
       "      <th>stop</th>\n",
       "      <th>arr_time</th>\n",
       "      <th>to</th>\n",
       "      <th>price</th>\n",
       "    </tr>\n",
       "  </thead>\n",
       "  <tbody>\n",
       "    <tr>\n",
       "      <th>0</th>\n",
       "      <td>11-02-2022</td>\n",
       "      <td>Air India</td>\n",
       "      <td>AI</td>\n",
       "      <td>868</td>\n",
       "      <td>18:00</td>\n",
       "      <td>Delhi</td>\n",
       "      <td>02h 00m</td>\n",
       "      <td>non-stop</td>\n",
       "      <td>20:00</td>\n",
       "      <td>Mumbai</td>\n",
       "      <td>25,612</td>\n",
       "    </tr>\n",
       "    <tr>\n",
       "      <th>1</th>\n",
       "      <td>11-02-2022</td>\n",
       "      <td>Air India</td>\n",
       "      <td>AI</td>\n",
       "      <td>624</td>\n",
       "      <td>19:00</td>\n",
       "      <td>Delhi</td>\n",
       "      <td>02h 15m</td>\n",
       "      <td>non-stop</td>\n",
       "      <td>21:15</td>\n",
       "      <td>Mumbai</td>\n",
       "      <td>25,612</td>\n",
       "    </tr>\n",
       "    <tr>\n",
       "      <th>2</th>\n",
       "      <td>11-02-2022</td>\n",
       "      <td>Air India</td>\n",
       "      <td>AI</td>\n",
       "      <td>531</td>\n",
       "      <td>20:00</td>\n",
       "      <td>Delhi</td>\n",
       "      <td>24h 45m</td>\n",
       "      <td>1-stop\\n\\t\\t\\t\\t\\t\\t\\t\\t\\t\\t\\t\\t\\n\\t\\t\\t\\t\\t\\t...</td>\n",
       "      <td>20:45</td>\n",
       "      <td>Mumbai</td>\n",
       "      <td>42,220</td>\n",
       "    </tr>\n",
       "    <tr>\n",
       "      <th>3</th>\n",
       "      <td>11-02-2022</td>\n",
       "      <td>Air India</td>\n",
       "      <td>AI</td>\n",
       "      <td>839</td>\n",
       "      <td>21:25</td>\n",
       "      <td>Delhi</td>\n",
       "      <td>26h 30m</td>\n",
       "      <td>1-stop\\n\\t\\t\\t\\t\\t\\t\\t\\t\\t\\t\\t\\t\\n\\t\\t\\t\\t\\t\\t...</td>\n",
       "      <td>23:55</td>\n",
       "      <td>Mumbai</td>\n",
       "      <td>44,450</td>\n",
       "    </tr>\n",
       "    <tr>\n",
       "      <th>4</th>\n",
       "      <td>11-02-2022</td>\n",
       "      <td>Air India</td>\n",
       "      <td>AI</td>\n",
       "      <td>544</td>\n",
       "      <td>17:15</td>\n",
       "      <td>Delhi</td>\n",
       "      <td>06h 40m</td>\n",
       "      <td>1-stop\\n\\t\\t\\t\\t\\t\\t\\t\\t\\t\\t\\t\\t\\n\\t\\t\\t\\t\\t\\t...</td>\n",
       "      <td>23:55</td>\n",
       "      <td>Mumbai</td>\n",
       "      <td>46,690</td>\n",
       "    </tr>\n",
       "  </tbody>\n",
       "</table>\n",
       "</div>"
      ]
     },
     "execution_count": 26,
     "metadata": {},
     "output_type": "execute_result"
    }
   ],
   "execution_count": 26
  },
  {
   "metadata": {
    "ExecuteTime": {
     "end_time": "2025-05-23T16:42:37.119729Z",
     "start_time": "2025-05-23T16:42:37.113096Z"
    }
   },
   "cell_type": "code",
   "source": "df2.head()",
   "id": "2fc5b57f3193c70d",
   "outputs": [
    {
     "data": {
      "text/plain": [
       "         date   airline ch_code  num_code dep_time   from time_taken  \\\n",
       "0  11-02-2022  SpiceJet      SG      8709    18:55  Delhi    02h 10m   \n",
       "1  11-02-2022  SpiceJet      SG      8157    06:20  Delhi    02h 20m   \n",
       "2  11-02-2022   AirAsia      I5       764    04:25  Delhi    02h 10m   \n",
       "3  11-02-2022   Vistara      UK       995    10:20  Delhi    02h 15m   \n",
       "4  11-02-2022   Vistara      UK       963    08:50  Delhi    02h 20m   \n",
       "\n",
       "        stop arr_time      to  price  \n",
       "0  non-stop     21:05  Mumbai  5,953  \n",
       "1  non-stop     08:40  Mumbai  5,953  \n",
       "2  non-stop     06:35  Mumbai  5,956  \n",
       "3  non-stop     12:35  Mumbai  5,955  \n",
       "4  non-stop     11:10  Mumbai  5,955  "
      ],
      "text/html": [
       "<div>\n",
       "<style scoped>\n",
       "    .dataframe tbody tr th:only-of-type {\n",
       "        vertical-align: middle;\n",
       "    }\n",
       "\n",
       "    .dataframe tbody tr th {\n",
       "        vertical-align: top;\n",
       "    }\n",
       "\n",
       "    .dataframe thead th {\n",
       "        text-align: right;\n",
       "    }\n",
       "</style>\n",
       "<table border=\"1\" class=\"dataframe\">\n",
       "  <thead>\n",
       "    <tr style=\"text-align: right;\">\n",
       "      <th></th>\n",
       "      <th>date</th>\n",
       "      <th>airline</th>\n",
       "      <th>ch_code</th>\n",
       "      <th>num_code</th>\n",
       "      <th>dep_time</th>\n",
       "      <th>from</th>\n",
       "      <th>time_taken</th>\n",
       "      <th>stop</th>\n",
       "      <th>arr_time</th>\n",
       "      <th>to</th>\n",
       "      <th>price</th>\n",
       "    </tr>\n",
       "  </thead>\n",
       "  <tbody>\n",
       "    <tr>\n",
       "      <th>0</th>\n",
       "      <td>11-02-2022</td>\n",
       "      <td>SpiceJet</td>\n",
       "      <td>SG</td>\n",
       "      <td>8709</td>\n",
       "      <td>18:55</td>\n",
       "      <td>Delhi</td>\n",
       "      <td>02h 10m</td>\n",
       "      <td>non-stop</td>\n",
       "      <td>21:05</td>\n",
       "      <td>Mumbai</td>\n",
       "      <td>5,953</td>\n",
       "    </tr>\n",
       "    <tr>\n",
       "      <th>1</th>\n",
       "      <td>11-02-2022</td>\n",
       "      <td>SpiceJet</td>\n",
       "      <td>SG</td>\n",
       "      <td>8157</td>\n",
       "      <td>06:20</td>\n",
       "      <td>Delhi</td>\n",
       "      <td>02h 20m</td>\n",
       "      <td>non-stop</td>\n",
       "      <td>08:40</td>\n",
       "      <td>Mumbai</td>\n",
       "      <td>5,953</td>\n",
       "    </tr>\n",
       "    <tr>\n",
       "      <th>2</th>\n",
       "      <td>11-02-2022</td>\n",
       "      <td>AirAsia</td>\n",
       "      <td>I5</td>\n",
       "      <td>764</td>\n",
       "      <td>04:25</td>\n",
       "      <td>Delhi</td>\n",
       "      <td>02h 10m</td>\n",
       "      <td>non-stop</td>\n",
       "      <td>06:35</td>\n",
       "      <td>Mumbai</td>\n",
       "      <td>5,956</td>\n",
       "    </tr>\n",
       "    <tr>\n",
       "      <th>3</th>\n",
       "      <td>11-02-2022</td>\n",
       "      <td>Vistara</td>\n",
       "      <td>UK</td>\n",
       "      <td>995</td>\n",
       "      <td>10:20</td>\n",
       "      <td>Delhi</td>\n",
       "      <td>02h 15m</td>\n",
       "      <td>non-stop</td>\n",
       "      <td>12:35</td>\n",
       "      <td>Mumbai</td>\n",
       "      <td>5,955</td>\n",
       "    </tr>\n",
       "    <tr>\n",
       "      <th>4</th>\n",
       "      <td>11-02-2022</td>\n",
       "      <td>Vistara</td>\n",
       "      <td>UK</td>\n",
       "      <td>963</td>\n",
       "      <td>08:50</td>\n",
       "      <td>Delhi</td>\n",
       "      <td>02h 20m</td>\n",
       "      <td>non-stop</td>\n",
       "      <td>11:10</td>\n",
       "      <td>Mumbai</td>\n",
       "      <td>5,955</td>\n",
       "    </tr>\n",
       "  </tbody>\n",
       "</table>\n",
       "</div>"
      ]
     },
     "execution_count": 27,
     "metadata": {},
     "output_type": "execute_result"
    }
   ],
   "execution_count": 27
  },
  {
   "metadata": {},
   "cell_type": "markdown",
   "source": "Après avoir jeté un coup d'œil à nos jeux de données, on peut constater qu'ils ont la même structure. L'un représente les vols éffectués en classe business et l'autre représente ceux éffectués en classe économique. Pour avoir tout dans une même base de données afin d'éviter de devoir les étudier séparemment, nous allons les concaténer.",
   "id": "1152055fddf0ee88"
  },
  {
   "metadata": {
    "ExecuteTime": {
     "end_time": "2025-05-23T16:42:37.204860Z",
     "start_time": "2025-05-23T16:42:37.174211Z"
    }
   },
   "cell_type": "code",
   "source": [
    "# D'abord, on ajoute une colonne 'class' pour définir la classe de chaque vol.\n",
    "df1['class'] = \"business\"\n",
    "df2['class'] = \"economy\"\n",
    "# On peut à présent procéder à la concaténation\n",
    "data = pd.concat([df1, df2])\n",
    "data.head()"
   ],
   "id": "43fdb6e212a96926",
   "outputs": [
    {
     "data": {
      "text/plain": [
       "         date    airline ch_code  num_code dep_time   from time_taken  \\\n",
       "0  11-02-2022  Air India      AI       868    18:00  Delhi    02h 00m   \n",
       "1  11-02-2022  Air India      AI       624    19:00  Delhi    02h 15m   \n",
       "2  11-02-2022  Air India      AI       531    20:00  Delhi    24h 45m   \n",
       "3  11-02-2022  Air India      AI       839    21:25  Delhi    26h 30m   \n",
       "4  11-02-2022  Air India      AI       544    17:15  Delhi    06h 40m   \n",
       "\n",
       "                                                stop arr_time      to   price  \\\n",
       "0                                          non-stop     20:00  Mumbai  25,612   \n",
       "1                                          non-stop     21:15  Mumbai  25,612   \n",
       "2  1-stop\\n\\t\\t\\t\\t\\t\\t\\t\\t\\t\\t\\t\\t\\n\\t\\t\\t\\t\\t\\t...    20:45  Mumbai  42,220   \n",
       "3  1-stop\\n\\t\\t\\t\\t\\t\\t\\t\\t\\t\\t\\t\\t\\n\\t\\t\\t\\t\\t\\t...    23:55  Mumbai  44,450   \n",
       "4  1-stop\\n\\t\\t\\t\\t\\t\\t\\t\\t\\t\\t\\t\\t\\n\\t\\t\\t\\t\\t\\t...    23:55  Mumbai  46,690   \n",
       "\n",
       "      class  \n",
       "0  business  \n",
       "1  business  \n",
       "2  business  \n",
       "3  business  \n",
       "4  business  "
      ],
      "text/html": [
       "<div>\n",
       "<style scoped>\n",
       "    .dataframe tbody tr th:only-of-type {\n",
       "        vertical-align: middle;\n",
       "    }\n",
       "\n",
       "    .dataframe tbody tr th {\n",
       "        vertical-align: top;\n",
       "    }\n",
       "\n",
       "    .dataframe thead th {\n",
       "        text-align: right;\n",
       "    }\n",
       "</style>\n",
       "<table border=\"1\" class=\"dataframe\">\n",
       "  <thead>\n",
       "    <tr style=\"text-align: right;\">\n",
       "      <th></th>\n",
       "      <th>date</th>\n",
       "      <th>airline</th>\n",
       "      <th>ch_code</th>\n",
       "      <th>num_code</th>\n",
       "      <th>dep_time</th>\n",
       "      <th>from</th>\n",
       "      <th>time_taken</th>\n",
       "      <th>stop</th>\n",
       "      <th>arr_time</th>\n",
       "      <th>to</th>\n",
       "      <th>price</th>\n",
       "      <th>class</th>\n",
       "    </tr>\n",
       "  </thead>\n",
       "  <tbody>\n",
       "    <tr>\n",
       "      <th>0</th>\n",
       "      <td>11-02-2022</td>\n",
       "      <td>Air India</td>\n",
       "      <td>AI</td>\n",
       "      <td>868</td>\n",
       "      <td>18:00</td>\n",
       "      <td>Delhi</td>\n",
       "      <td>02h 00m</td>\n",
       "      <td>non-stop</td>\n",
       "      <td>20:00</td>\n",
       "      <td>Mumbai</td>\n",
       "      <td>25,612</td>\n",
       "      <td>business</td>\n",
       "    </tr>\n",
       "    <tr>\n",
       "      <th>1</th>\n",
       "      <td>11-02-2022</td>\n",
       "      <td>Air India</td>\n",
       "      <td>AI</td>\n",
       "      <td>624</td>\n",
       "      <td>19:00</td>\n",
       "      <td>Delhi</td>\n",
       "      <td>02h 15m</td>\n",
       "      <td>non-stop</td>\n",
       "      <td>21:15</td>\n",
       "      <td>Mumbai</td>\n",
       "      <td>25,612</td>\n",
       "      <td>business</td>\n",
       "    </tr>\n",
       "    <tr>\n",
       "      <th>2</th>\n",
       "      <td>11-02-2022</td>\n",
       "      <td>Air India</td>\n",
       "      <td>AI</td>\n",
       "      <td>531</td>\n",
       "      <td>20:00</td>\n",
       "      <td>Delhi</td>\n",
       "      <td>24h 45m</td>\n",
       "      <td>1-stop\\n\\t\\t\\t\\t\\t\\t\\t\\t\\t\\t\\t\\t\\n\\t\\t\\t\\t\\t\\t...</td>\n",
       "      <td>20:45</td>\n",
       "      <td>Mumbai</td>\n",
       "      <td>42,220</td>\n",
       "      <td>business</td>\n",
       "    </tr>\n",
       "    <tr>\n",
       "      <th>3</th>\n",
       "      <td>11-02-2022</td>\n",
       "      <td>Air India</td>\n",
       "      <td>AI</td>\n",
       "      <td>839</td>\n",
       "      <td>21:25</td>\n",
       "      <td>Delhi</td>\n",
       "      <td>26h 30m</td>\n",
       "      <td>1-stop\\n\\t\\t\\t\\t\\t\\t\\t\\t\\t\\t\\t\\t\\n\\t\\t\\t\\t\\t\\t...</td>\n",
       "      <td>23:55</td>\n",
       "      <td>Mumbai</td>\n",
       "      <td>44,450</td>\n",
       "      <td>business</td>\n",
       "    </tr>\n",
       "    <tr>\n",
       "      <th>4</th>\n",
       "      <td>11-02-2022</td>\n",
       "      <td>Air India</td>\n",
       "      <td>AI</td>\n",
       "      <td>544</td>\n",
       "      <td>17:15</td>\n",
       "      <td>Delhi</td>\n",
       "      <td>06h 40m</td>\n",
       "      <td>1-stop\\n\\t\\t\\t\\t\\t\\t\\t\\t\\t\\t\\t\\t\\n\\t\\t\\t\\t\\t\\t...</td>\n",
       "      <td>23:55</td>\n",
       "      <td>Mumbai</td>\n",
       "      <td>46,690</td>\n",
       "      <td>business</td>\n",
       "    </tr>\n",
       "  </tbody>\n",
       "</table>\n",
       "</div>"
      ]
     },
     "execution_count": 28,
     "metadata": {},
     "output_type": "execute_result"
    }
   ],
   "execution_count": 28
  },
  {
   "metadata": {
    "ExecuteTime": {
     "end_time": "2025-05-23T16:42:37.257958Z",
     "start_time": "2025-05-23T16:42:37.245419Z"
    }
   },
   "cell_type": "code",
   "source": "data.tail()",
   "id": "361e0cc99a736294",
   "outputs": [
    {
     "data": {
      "text/plain": [
       "              date  airline ch_code  num_code dep_time     from time_taken  \\\n",
       "206769  31-03-2022  Vistara      UK       832    07:05  Chennai    13h 50m   \n",
       "206770  31-03-2022  Vistara      UK       832    07:05  Chennai    13h 50m   \n",
       "206771  31-03-2022  Vistara      UK       826    12:30  Chennai    20h 35m   \n",
       "206772  31-03-2022  Vistara      UK       822    09:45  Chennai    23h 20m   \n",
       "206773  31-03-2022  Vistara      UK       824    20:30  Chennai    24h 25m   \n",
       "\n",
       "                                                     stop arr_time         to  \\\n",
       "206769  1-stop\\n\\t\\t\\t\\t\\t\\t\\t\\t\\t\\t\\t\\t\\n\\t\\t\\t\\t\\t\\t...    20:55  Hyderabad   \n",
       "206770  1-stop\\n\\t\\t\\t\\t\\t\\t\\t\\t\\t\\t\\t\\t\\n\\t\\t\\t\\t\\t\\t...    20:55  Hyderabad   \n",
       "206771  1-stop\\n\\t\\t\\t\\t\\t\\t\\t\\t\\t\\t\\t\\t\\n\\t\\t\\t\\t\\t\\t...    09:05  Hyderabad   \n",
       "206772  1-stop\\n\\t\\t\\t\\t\\t\\t\\t\\t\\t\\t\\t\\t\\n\\t\\t\\t\\t\\t\\t...    09:05  Hyderabad   \n",
       "206773  1-stop\\n\\t\\t\\t\\t\\t\\t\\t\\t\\t\\t\\t\\t\\n\\t\\t\\t\\t\\t\\t...    20:55  Hyderabad   \n",
       "\n",
       "        price    class  \n",
       "206769  7,697  economy  \n",
       "206770  7,709  economy  \n",
       "206771  8,640  economy  \n",
       "206772  8,640  economy  \n",
       "206773  8,640  economy  "
      ],
      "text/html": [
       "<div>\n",
       "<style scoped>\n",
       "    .dataframe tbody tr th:only-of-type {\n",
       "        vertical-align: middle;\n",
       "    }\n",
       "\n",
       "    .dataframe tbody tr th {\n",
       "        vertical-align: top;\n",
       "    }\n",
       "\n",
       "    .dataframe thead th {\n",
       "        text-align: right;\n",
       "    }\n",
       "</style>\n",
       "<table border=\"1\" class=\"dataframe\">\n",
       "  <thead>\n",
       "    <tr style=\"text-align: right;\">\n",
       "      <th></th>\n",
       "      <th>date</th>\n",
       "      <th>airline</th>\n",
       "      <th>ch_code</th>\n",
       "      <th>num_code</th>\n",
       "      <th>dep_time</th>\n",
       "      <th>from</th>\n",
       "      <th>time_taken</th>\n",
       "      <th>stop</th>\n",
       "      <th>arr_time</th>\n",
       "      <th>to</th>\n",
       "      <th>price</th>\n",
       "      <th>class</th>\n",
       "    </tr>\n",
       "  </thead>\n",
       "  <tbody>\n",
       "    <tr>\n",
       "      <th>206769</th>\n",
       "      <td>31-03-2022</td>\n",
       "      <td>Vistara</td>\n",
       "      <td>UK</td>\n",
       "      <td>832</td>\n",
       "      <td>07:05</td>\n",
       "      <td>Chennai</td>\n",
       "      <td>13h 50m</td>\n",
       "      <td>1-stop\\n\\t\\t\\t\\t\\t\\t\\t\\t\\t\\t\\t\\t\\n\\t\\t\\t\\t\\t\\t...</td>\n",
       "      <td>20:55</td>\n",
       "      <td>Hyderabad</td>\n",
       "      <td>7,697</td>\n",
       "      <td>economy</td>\n",
       "    </tr>\n",
       "    <tr>\n",
       "      <th>206770</th>\n",
       "      <td>31-03-2022</td>\n",
       "      <td>Vistara</td>\n",
       "      <td>UK</td>\n",
       "      <td>832</td>\n",
       "      <td>07:05</td>\n",
       "      <td>Chennai</td>\n",
       "      <td>13h 50m</td>\n",
       "      <td>1-stop\\n\\t\\t\\t\\t\\t\\t\\t\\t\\t\\t\\t\\t\\n\\t\\t\\t\\t\\t\\t...</td>\n",
       "      <td>20:55</td>\n",
       "      <td>Hyderabad</td>\n",
       "      <td>7,709</td>\n",
       "      <td>economy</td>\n",
       "    </tr>\n",
       "    <tr>\n",
       "      <th>206771</th>\n",
       "      <td>31-03-2022</td>\n",
       "      <td>Vistara</td>\n",
       "      <td>UK</td>\n",
       "      <td>826</td>\n",
       "      <td>12:30</td>\n",
       "      <td>Chennai</td>\n",
       "      <td>20h 35m</td>\n",
       "      <td>1-stop\\n\\t\\t\\t\\t\\t\\t\\t\\t\\t\\t\\t\\t\\n\\t\\t\\t\\t\\t\\t...</td>\n",
       "      <td>09:05</td>\n",
       "      <td>Hyderabad</td>\n",
       "      <td>8,640</td>\n",
       "      <td>economy</td>\n",
       "    </tr>\n",
       "    <tr>\n",
       "      <th>206772</th>\n",
       "      <td>31-03-2022</td>\n",
       "      <td>Vistara</td>\n",
       "      <td>UK</td>\n",
       "      <td>822</td>\n",
       "      <td>09:45</td>\n",
       "      <td>Chennai</td>\n",
       "      <td>23h 20m</td>\n",
       "      <td>1-stop\\n\\t\\t\\t\\t\\t\\t\\t\\t\\t\\t\\t\\t\\n\\t\\t\\t\\t\\t\\t...</td>\n",
       "      <td>09:05</td>\n",
       "      <td>Hyderabad</td>\n",
       "      <td>8,640</td>\n",
       "      <td>economy</td>\n",
       "    </tr>\n",
       "    <tr>\n",
       "      <th>206773</th>\n",
       "      <td>31-03-2022</td>\n",
       "      <td>Vistara</td>\n",
       "      <td>UK</td>\n",
       "      <td>824</td>\n",
       "      <td>20:30</td>\n",
       "      <td>Chennai</td>\n",
       "      <td>24h 25m</td>\n",
       "      <td>1-stop\\n\\t\\t\\t\\t\\t\\t\\t\\t\\t\\t\\t\\t\\n\\t\\t\\t\\t\\t\\t...</td>\n",
       "      <td>20:55</td>\n",
       "      <td>Hyderabad</td>\n",
       "      <td>8,640</td>\n",
       "      <td>economy</td>\n",
       "    </tr>\n",
       "  </tbody>\n",
       "</table>\n",
       "</div>"
      ]
     },
     "execution_count": 29,
     "metadata": {},
     "output_type": "execute_result"
    }
   ],
   "execution_count": 29
  },
  {
   "metadata": {
    "ExecuteTime": {
     "end_time": "2025-05-23T16:42:37.373857Z",
     "start_time": "2025-05-23T16:42:37.371307Z"
    }
   },
   "cell_type": "code",
   "source": "data.shape",
   "id": "ac798be3403711cb",
   "outputs": [
    {
     "data": {
      "text/plain": [
       "(300261, 12)"
      ]
     },
     "execution_count": 30,
     "metadata": {},
     "output_type": "execute_result"
    }
   ],
   "execution_count": 30
  },
  {
   "metadata": {},
   "cell_type": "markdown",
   "source": "Notre dataframe contient 300261 observations et 12 variables",
   "id": "eb8adebda465956e"
  },
  {
   "metadata": {},
   "cell_type": "markdown",
   "source": [
    "Maintenant qu'on a notre base de données, on va explorer nos variables et supprimer celles qui nous serons inutile lors de l'analyse.\n",
    "\n",
    "On supprimera les colonnes:\n",
    "- ch_code\n",
    "- num_code"
   ],
   "id": "bdf16f6b1de7ad60"
  },
  {
   "metadata": {
    "ExecuteTime": {
     "end_time": "2025-05-23T16:42:37.441932Z",
     "start_time": "2025-05-23T16:42:37.438844Z"
    }
   },
   "cell_type": "code",
   "source": [
    "del data['ch_code']\n",
    "del data['num_code']"
   ],
   "id": "f2b69c472a6c5d6f",
   "outputs": [],
   "execution_count": 31
  },
  {
   "metadata": {
    "ExecuteTime": {
     "end_time": "2025-05-23T16:42:37.520500Z",
     "start_time": "2025-05-23T16:42:37.508757Z"
    }
   },
   "cell_type": "code",
   "source": "data.head()",
   "id": "58133b8e2d5bd55c",
   "outputs": [
    {
     "data": {
      "text/plain": [
       "         date    airline dep_time   from time_taken  \\\n",
       "0  11-02-2022  Air India    18:00  Delhi    02h 00m   \n",
       "1  11-02-2022  Air India    19:00  Delhi    02h 15m   \n",
       "2  11-02-2022  Air India    20:00  Delhi    24h 45m   \n",
       "3  11-02-2022  Air India    21:25  Delhi    26h 30m   \n",
       "4  11-02-2022  Air India    17:15  Delhi    06h 40m   \n",
       "\n",
       "                                                stop arr_time      to   price  \\\n",
       "0                                          non-stop     20:00  Mumbai  25,612   \n",
       "1                                          non-stop     21:15  Mumbai  25,612   \n",
       "2  1-stop\\n\\t\\t\\t\\t\\t\\t\\t\\t\\t\\t\\t\\t\\n\\t\\t\\t\\t\\t\\t...    20:45  Mumbai  42,220   \n",
       "3  1-stop\\n\\t\\t\\t\\t\\t\\t\\t\\t\\t\\t\\t\\t\\n\\t\\t\\t\\t\\t\\t...    23:55  Mumbai  44,450   \n",
       "4  1-stop\\n\\t\\t\\t\\t\\t\\t\\t\\t\\t\\t\\t\\t\\n\\t\\t\\t\\t\\t\\t...    23:55  Mumbai  46,690   \n",
       "\n",
       "      class  \n",
       "0  business  \n",
       "1  business  \n",
       "2  business  \n",
       "3  business  \n",
       "4  business  "
      ],
      "text/html": [
       "<div>\n",
       "<style scoped>\n",
       "    .dataframe tbody tr th:only-of-type {\n",
       "        vertical-align: middle;\n",
       "    }\n",
       "\n",
       "    .dataframe tbody tr th {\n",
       "        vertical-align: top;\n",
       "    }\n",
       "\n",
       "    .dataframe thead th {\n",
       "        text-align: right;\n",
       "    }\n",
       "</style>\n",
       "<table border=\"1\" class=\"dataframe\">\n",
       "  <thead>\n",
       "    <tr style=\"text-align: right;\">\n",
       "      <th></th>\n",
       "      <th>date</th>\n",
       "      <th>airline</th>\n",
       "      <th>dep_time</th>\n",
       "      <th>from</th>\n",
       "      <th>time_taken</th>\n",
       "      <th>stop</th>\n",
       "      <th>arr_time</th>\n",
       "      <th>to</th>\n",
       "      <th>price</th>\n",
       "      <th>class</th>\n",
       "    </tr>\n",
       "  </thead>\n",
       "  <tbody>\n",
       "    <tr>\n",
       "      <th>0</th>\n",
       "      <td>11-02-2022</td>\n",
       "      <td>Air India</td>\n",
       "      <td>18:00</td>\n",
       "      <td>Delhi</td>\n",
       "      <td>02h 00m</td>\n",
       "      <td>non-stop</td>\n",
       "      <td>20:00</td>\n",
       "      <td>Mumbai</td>\n",
       "      <td>25,612</td>\n",
       "      <td>business</td>\n",
       "    </tr>\n",
       "    <tr>\n",
       "      <th>1</th>\n",
       "      <td>11-02-2022</td>\n",
       "      <td>Air India</td>\n",
       "      <td>19:00</td>\n",
       "      <td>Delhi</td>\n",
       "      <td>02h 15m</td>\n",
       "      <td>non-stop</td>\n",
       "      <td>21:15</td>\n",
       "      <td>Mumbai</td>\n",
       "      <td>25,612</td>\n",
       "      <td>business</td>\n",
       "    </tr>\n",
       "    <tr>\n",
       "      <th>2</th>\n",
       "      <td>11-02-2022</td>\n",
       "      <td>Air India</td>\n",
       "      <td>20:00</td>\n",
       "      <td>Delhi</td>\n",
       "      <td>24h 45m</td>\n",
       "      <td>1-stop\\n\\t\\t\\t\\t\\t\\t\\t\\t\\t\\t\\t\\t\\n\\t\\t\\t\\t\\t\\t...</td>\n",
       "      <td>20:45</td>\n",
       "      <td>Mumbai</td>\n",
       "      <td>42,220</td>\n",
       "      <td>business</td>\n",
       "    </tr>\n",
       "    <tr>\n",
       "      <th>3</th>\n",
       "      <td>11-02-2022</td>\n",
       "      <td>Air India</td>\n",
       "      <td>21:25</td>\n",
       "      <td>Delhi</td>\n",
       "      <td>26h 30m</td>\n",
       "      <td>1-stop\\n\\t\\t\\t\\t\\t\\t\\t\\t\\t\\t\\t\\t\\n\\t\\t\\t\\t\\t\\t...</td>\n",
       "      <td>23:55</td>\n",
       "      <td>Mumbai</td>\n",
       "      <td>44,450</td>\n",
       "      <td>business</td>\n",
       "    </tr>\n",
       "    <tr>\n",
       "      <th>4</th>\n",
       "      <td>11-02-2022</td>\n",
       "      <td>Air India</td>\n",
       "      <td>17:15</td>\n",
       "      <td>Delhi</td>\n",
       "      <td>06h 40m</td>\n",
       "      <td>1-stop\\n\\t\\t\\t\\t\\t\\t\\t\\t\\t\\t\\t\\t\\n\\t\\t\\t\\t\\t\\t...</td>\n",
       "      <td>23:55</td>\n",
       "      <td>Mumbai</td>\n",
       "      <td>46,690</td>\n",
       "      <td>business</td>\n",
       "    </tr>\n",
       "  </tbody>\n",
       "</table>\n",
       "</div>"
      ]
     },
     "execution_count": 32,
     "metadata": {},
     "output_type": "execute_result"
    }
   ],
   "execution_count": 32
  },
  {
   "metadata": {},
   "cell_type": "markdown",
   "source": "# Néttoyage et Manipulation des données",
   "id": "4d77917d3a2440ea"
  },
  {
   "metadata": {
    "ExecuteTime": {
     "end_time": "2025-05-23T16:42:37.676952Z",
     "start_time": "2025-05-23T16:42:37.596579Z"
    }
   },
   "cell_type": "code",
   "source": "data.info()",
   "id": "16e5b2b57ed62bc5",
   "outputs": [
    {
     "name": "stdout",
     "output_type": "stream",
     "text": [
      "<class 'pandas.core.frame.DataFrame'>\n",
      "Index: 300261 entries, 0 to 206773\n",
      "Data columns (total 10 columns):\n",
      " #   Column      Non-Null Count   Dtype \n",
      "---  ------      --------------   ----- \n",
      " 0   date        300261 non-null  object\n",
      " 1   airline     300261 non-null  object\n",
      " 2   dep_time    300261 non-null  object\n",
      " 3   from        300261 non-null  object\n",
      " 4   time_taken  300261 non-null  object\n",
      " 5   stop        300261 non-null  object\n",
      " 6   arr_time    300261 non-null  object\n",
      " 7   to          300261 non-null  object\n",
      " 8   price       300261 non-null  object\n",
      " 9   class       300261 non-null  object\n",
      "dtypes: object(10)\n",
      "memory usage: 25.2+ MB\n"
     ]
    }
   ],
   "execution_count": 33
  },
  {
   "metadata": {},
   "cell_type": "markdown",
   "source": [
    "Aucune colonne ne contient de valeurs manquantes. Cependant, il y a des erreurs de type au niveau de certaines colonnes :\n",
    "- `date`, `dep_time` et `arr_time`: type \"object\" au lieu de \"date\" et \"time\"\n",
    "- `time_taken`: type \"object\" au lieu de \"datetime.timedelta\"\n",
    "- `price`: type \"object\" au lieu de \"int\"\n",
    "\n",
    "Nous allons donc corriger cela"
   ],
   "id": "33ddea97e513dd98"
  },
  {
   "metadata": {
    "ExecuteTime": {
     "end_time": "2025-05-23T16:42:39.445540Z",
     "start_time": "2025-05-23T16:42:37.724812Z"
    }
   },
   "cell_type": "code",
   "source": [
    "# conversion en type date et time\n",
    "data['date'] = pd.to_datetime(data['date'], format='%d-%m-%Y', errors='coerce')\n",
    "data['dep_time'] = data['dep_time'].apply(lambda x: datetime.strptime(x, '%H:%M').time())\n",
    "data['arr_time'] = data['arr_time'].apply(lambda x: datetime.strptime(x, '%H:%M').time())\n",
    "data[['date', 'dep_time', 'arr_time']].head()"
   ],
   "id": "169fddfa85e36738",
   "outputs": [
    {
     "data": {
      "text/plain": [
       "        date  dep_time  arr_time\n",
       "0 2022-02-11  18:00:00  20:00:00\n",
       "1 2022-02-11  19:00:00  21:15:00\n",
       "2 2022-02-11  20:00:00  20:45:00\n",
       "3 2022-02-11  21:25:00  23:55:00\n",
       "4 2022-02-11  17:15:00  23:55:00"
      ],
      "text/html": [
       "<div>\n",
       "<style scoped>\n",
       "    .dataframe tbody tr th:only-of-type {\n",
       "        vertical-align: middle;\n",
       "    }\n",
       "\n",
       "    .dataframe tbody tr th {\n",
       "        vertical-align: top;\n",
       "    }\n",
       "\n",
       "    .dataframe thead th {\n",
       "        text-align: right;\n",
       "    }\n",
       "</style>\n",
       "<table border=\"1\" class=\"dataframe\">\n",
       "  <thead>\n",
       "    <tr style=\"text-align: right;\">\n",
       "      <th></th>\n",
       "      <th>date</th>\n",
       "      <th>dep_time</th>\n",
       "      <th>arr_time</th>\n",
       "    </tr>\n",
       "  </thead>\n",
       "  <tbody>\n",
       "    <tr>\n",
       "      <th>0</th>\n",
       "      <td>2022-02-11</td>\n",
       "      <td>18:00:00</td>\n",
       "      <td>20:00:00</td>\n",
       "    </tr>\n",
       "    <tr>\n",
       "      <th>1</th>\n",
       "      <td>2022-02-11</td>\n",
       "      <td>19:00:00</td>\n",
       "      <td>21:15:00</td>\n",
       "    </tr>\n",
       "    <tr>\n",
       "      <th>2</th>\n",
       "      <td>2022-02-11</td>\n",
       "      <td>20:00:00</td>\n",
       "      <td>20:45:00</td>\n",
       "    </tr>\n",
       "    <tr>\n",
       "      <th>3</th>\n",
       "      <td>2022-02-11</td>\n",
       "      <td>21:25:00</td>\n",
       "      <td>23:55:00</td>\n",
       "    </tr>\n",
       "    <tr>\n",
       "      <th>4</th>\n",
       "      <td>2022-02-11</td>\n",
       "      <td>17:15:00</td>\n",
       "      <td>23:55:00</td>\n",
       "    </tr>\n",
       "  </tbody>\n",
       "</table>\n",
       "</div>"
      ]
     },
     "execution_count": 34,
     "metadata": {},
     "output_type": "execute_result"
    }
   ],
   "execution_count": 34
  },
  {
   "metadata": {
    "ExecuteTime": {
     "end_time": "2025-05-23T16:42:40.539115Z",
     "start_time": "2025-05-23T16:42:39.466150Z"
    }
   },
   "cell_type": "code",
   "source": [
    "# conversion en type timedelta\n",
    "data['time_taken'] = pd.to_timedelta(data['time_taken'], errors='coerce')"
   ],
   "id": "aa20c148530f659d",
   "outputs": [],
   "execution_count": 35
  },
  {
   "metadata": {
    "ExecuteTime": {
     "end_time": "2025-05-23T16:42:40.711230Z",
     "start_time": "2025-05-23T16:42:40.585677Z"
    }
   },
   "cell_type": "code",
   "source": [
    "data['price'] = data['price'].str.replace(\",\", \"\")\n",
    "data['price'] = pd.to_numeric(data.price, errors=\"coerce\")"
   ],
   "id": "3ce5e0abaed9609b",
   "outputs": [],
   "execution_count": 36
  },
  {
   "metadata": {
    "ExecuteTime": {
     "end_time": "2025-05-23T16:42:40.734550Z",
     "start_time": "2025-05-23T16:42:40.726005Z"
    }
   },
   "cell_type": "code",
   "source": "data[['time_taken', 'price']].head()",
   "id": "8058b8b28c80bac7",
   "outputs": [
    {
     "data": {
      "text/plain": [
       "       time_taken  price\n",
       "0 0 days 02:00:00  25612\n",
       "1 0 days 02:15:00  25612\n",
       "2 1 days 00:45:00  42220\n",
       "3 1 days 02:30:00  44450\n",
       "4 0 days 06:40:00  46690"
      ],
      "text/html": [
       "<div>\n",
       "<style scoped>\n",
       "    .dataframe tbody tr th:only-of-type {\n",
       "        vertical-align: middle;\n",
       "    }\n",
       "\n",
       "    .dataframe tbody tr th {\n",
       "        vertical-align: top;\n",
       "    }\n",
       "\n",
       "    .dataframe thead th {\n",
       "        text-align: right;\n",
       "    }\n",
       "</style>\n",
       "<table border=\"1\" class=\"dataframe\">\n",
       "  <thead>\n",
       "    <tr style=\"text-align: right;\">\n",
       "      <th></th>\n",
       "      <th>time_taken</th>\n",
       "      <th>price</th>\n",
       "    </tr>\n",
       "  </thead>\n",
       "  <tbody>\n",
       "    <tr>\n",
       "      <th>0</th>\n",
       "      <td>0 days 02:00:00</td>\n",
       "      <td>25612</td>\n",
       "    </tr>\n",
       "    <tr>\n",
       "      <th>1</th>\n",
       "      <td>0 days 02:15:00</td>\n",
       "      <td>25612</td>\n",
       "    </tr>\n",
       "    <tr>\n",
       "      <th>2</th>\n",
       "      <td>1 days 00:45:00</td>\n",
       "      <td>42220</td>\n",
       "    </tr>\n",
       "    <tr>\n",
       "      <th>3</th>\n",
       "      <td>1 days 02:30:00</td>\n",
       "      <td>44450</td>\n",
       "    </tr>\n",
       "    <tr>\n",
       "      <th>4</th>\n",
       "      <td>0 days 06:40:00</td>\n",
       "      <td>46690</td>\n",
       "    </tr>\n",
       "  </tbody>\n",
       "</table>\n",
       "</div>"
      ]
     },
     "execution_count": 37,
     "metadata": {},
     "output_type": "execute_result"
    }
   ],
   "execution_count": 37
  },
  {
   "metadata": {},
   "cell_type": "markdown",
   "source": [
    "Les conversions ont été éffectuées avec succès.\n",
    "À présent, prêtons attention à la colonne `stop`"
   ],
   "id": "7c19ac9dc2109bb9"
  },
  {
   "metadata": {
    "ExecuteTime": {
     "end_time": "2025-05-23T16:42:40.811569Z",
     "start_time": "2025-05-23T16:42:40.798489Z"
    }
   },
   "cell_type": "code",
   "source": "data['stop'].unique()",
   "id": "3182b659e64fc5ec",
   "outputs": [
    {
     "data": {
      "text/plain": [
       "array(['non-stop ',\n",
       "       '1-stop\\n\\t\\t\\t\\t\\t\\t\\t\\t\\t\\t\\t\\t\\n\\t\\t\\t\\t\\t\\t\\t\\t\\t\\t\\t\\t',\n",
       "       '1-stop\\n\\t\\t\\t\\t\\t\\t\\t\\t\\t\\t\\t\\tVia IDR\\n\\t\\t\\t\\t\\t\\t\\t\\t\\t\\t\\t\\t',\n",
       "       '1-stop\\n\\t\\t\\t\\t\\t\\t\\t\\t\\t\\t\\t\\tVia IXU\\n\\t\\t\\t\\t\\t\\t\\t\\t\\t\\t\\t\\t',\n",
       "       '1-stop\\n\\t\\t\\t\\t\\t\\t\\t\\t\\t\\t\\t\\tVia Chennai\\n\\t\\t\\t\\t\\t\\t\\t\\t\\t\\t\\t\\t',\n",
       "       '1-stop\\n\\t\\t\\t\\t\\t\\t\\t\\t\\t\\t\\t\\tVia Lucknow\\n\\t\\t\\t\\t\\t\\t\\t\\t\\t\\t\\t\\t',\n",
       "       '1-stop\\n\\t\\t\\t\\t\\t\\t\\t\\t\\t\\t\\t\\tVia STV\\n\\t\\t\\t\\t\\t\\t\\t\\t\\t\\t\\t\\t',\n",
       "       '1-stop\\n\\t\\t\\t\\t\\t\\t\\t\\t\\t\\t\\t\\tVia Hyderabad\\n\\t\\t\\t\\t\\t\\t\\t\\t\\t\\t\\t\\t',\n",
       "       '1-stop\\n\\t\\t\\t\\t\\t\\t\\t\\t\\t\\t\\t\\tVia GAY\\n\\t\\t\\t\\t\\t\\t\\t\\t\\t\\t\\t\\t',\n",
       "       '2+-stop',\n",
       "       '1-stop\\n\\t\\t\\t\\t\\t\\t\\t\\t\\t\\t\\t\\tVia Guwahati\\n\\t\\t\\t\\t\\t\\t\\t\\t\\t\\t\\t\\t',\n",
       "       '1-stop\\n\\t\\t\\t\\t\\t\\t\\t\\t\\t\\t\\t\\tVia GAU\\n\\t\\t\\t\\t\\t\\t\\t\\t\\t\\t\\t\\t',\n",
       "       '1-stop\\n\\t\\t\\t\\t\\t\\t\\t\\t\\t\\t\\t\\tVia VTZ\\n\\t\\t\\t\\t\\t\\t\\t\\t\\t\\t\\t\\t',\n",
       "       '1-stop\\n\\t\\t\\t\\t\\t\\t\\t\\t\\t\\t\\t\\tVia NDC\\n\\t\\t\\t\\t\\t\\t\\t\\t\\t\\t\\t\\t',\n",
       "       '1-stop\\n\\t\\t\\t\\t\\t\\t\\t\\t\\t\\t\\t\\tVia IXE\\n\\t\\t\\t\\t\\t\\t\\t\\t\\t\\t\\t\\t',\n",
       "       '1-stop\\n\\t\\t\\t\\t\\t\\t\\t\\t\\t\\t\\t\\tVia Raipur\\n\\t\\t\\t\\t\\t\\t\\t\\t\\t\\t\\t\\t',\n",
       "       '1-stop\\n\\t\\t\\t\\t\\t\\t\\t\\t\\t\\t\\t\\tVia PAT\\n\\t\\t\\t\\t\\t\\t\\t\\t\\t\\t\\t\\t',\n",
       "       '1-stop\\n\\t\\t\\t\\t\\t\\t\\t\\t\\t\\t\\t\\tVia RPR\\n\\t\\t\\t\\t\\t\\t\\t\\t\\t\\t\\t\\t',\n",
       "       '1-stop\\n\\t\\t\\t\\t\\t\\t\\t\\t\\t\\t\\t\\tVia Patna\\n\\t\\t\\t\\t\\t\\t\\t\\t\\t\\t\\t\\t',\n",
       "       '1-stop\\n\\t\\t\\t\\t\\t\\t\\t\\t\\t\\t\\t\\tVia Kolkata\\n\\t\\t\\t\\t\\t\\t\\t\\t\\t\\t\\t\\t',\n",
       "       '1-stop\\n\\t\\t\\t\\t\\t\\t\\t\\t\\t\\t\\t\\tVia HYD\\n\\t\\t\\t\\t\\t\\t\\t\\t\\t\\t\\t\\t',\n",
       "       '1-stop\\n\\t\\t\\t\\t\\t\\t\\t\\t\\t\\t\\t\\tVia Delhi\\n\\t\\t\\t\\t\\t\\t\\t\\t\\t\\t\\t\\t',\n",
       "       '1-stop\\n\\t\\t\\t\\t\\t\\t\\t\\t\\t\\t\\t\\tVia Bhubaneswar\\n\\t\\t\\t\\t\\t\\t\\t\\t\\t\\t\\t\\t',\n",
       "       '1-stop\\n\\t\\t\\t\\t\\t\\t\\t\\t\\t\\t\\t\\tVia BBI\\n\\t\\t\\t\\t\\t\\t\\t\\t\\t\\t\\t\\t',\n",
       "       '1-stop\\n\\t\\t\\t\\t\\t\\t\\t\\t\\t\\t\\t\\tVia Surat\\n\\t\\t\\t\\t\\t\\t\\t\\t\\t\\t\\t\\t',\n",
       "       '1-stop\\n\\t\\t\\t\\t\\t\\t\\t\\t\\t\\t\\t\\tVia Indore\\n\\t\\t\\t\\t\\t\\t\\t\\t\\t\\t\\t\\t',\n",
       "       '1-stop\\n\\t\\t\\t\\t\\t\\t\\t\\t\\t\\t\\t\\tVia GOP\\n\\t\\t\\t\\t\\t\\t\\t\\t\\t\\t\\t\\t',\n",
       "       '1-stop\\n\\t\\t\\t\\t\\t\\t\\t\\t\\t\\t\\t\\tVia Nagpur\\n\\t\\t\\t\\t\\t\\t\\t\\t\\t\\t\\t\\t',\n",
       "       '1-stop\\n\\t\\t\\t\\t\\t\\t\\t\\t\\t\\t\\t\\tVia NAG\\n\\t\\t\\t\\t\\t\\t\\t\\t\\t\\t\\t\\t',\n",
       "       '1-stop\\n\\t\\t\\t\\t\\t\\t\\t\\t\\t\\t\\t\\tVia Vishakhapatnam\\n\\t\\t\\t\\t\\t\\t\\t\\t\\t\\t\\t\\t',\n",
       "       '1-stop\\n\\t\\t\\t\\t\\t\\t\\t\\t\\t\\t\\t\\tVia Mangalore\\n\\t\\t\\t\\t\\t\\t\\t\\t\\t\\t\\t\\t',\n",
       "       '1-stop\\n\\t\\t\\t\\t\\t\\t\\t\\t\\t\\t\\t\\tVia Mumbai\\n\\t\\t\\t\\t\\t\\t\\t\\t\\t\\t\\t\\t',\n",
       "       '1-stop\\n\\t\\t\\t\\t\\t\\t\\t\\t\\t\\t\\t\\tVia KLH\\n\\t\\t\\t\\t\\t\\t\\t\\t\\t\\t\\t\\t',\n",
       "       '1-stop\\n\\t\\t\\t\\t\\t\\t\\t\\t\\t\\t\\t\\tVia MYQ\\n\\t\\t\\t\\t\\t\\t\\t\\t\\t\\t\\t\\t',\n",
       "       '1-stop\\n\\t\\t\\t\\t\\t\\t\\t\\t\\t\\t\\t\\tVia Kolhapur\\n\\t\\t\\t\\t\\t\\t\\t\\t\\t\\t\\t\\t',\n",
       "       '1-stop\\n\\t\\t\\t\\t\\t\\t\\t\\t\\t\\t\\t\\tVia JRG\\n\\t\\t\\t\\t\\t\\t\\t\\t\\t\\t\\t\\t',\n",
       "       '1-stop\\n\\t\\t\\t\\t\\t\\t\\t\\t\\t\\t\\t\\tVia Ranchi\\n\\t\\t\\t\\t\\t\\t\\t\\t\\t\\t\\t\\t',\n",
       "       '1-stop\\n\\t\\t\\t\\t\\t\\t\\t\\t\\t\\t\\t\\tVia IXR\\n\\t\\t\\t\\t\\t\\t\\t\\t\\t\\t\\t\\t',\n",
       "       '1-stop\\n\\t\\t\\t\\t\\t\\t\\t\\t\\t\\t\\t\\tVia JGB\\n\\t\\t\\t\\t\\t\\t\\t\\t\\t\\t\\t\\t',\n",
       "       '1-stop\\n\\t\\t\\t\\t\\t\\t\\t\\t\\t\\t\\t\\tVia Mysore\\n\\t\\t\\t\\t\\t\\t\\t\\t\\t\\t\\t\\t'],\n",
       "      dtype=object)"
      ]
     },
     "execution_count": 38,
     "metadata": {},
     "output_type": "execute_result"
    }
   ],
   "execution_count": 38
  },
  {
   "metadata": {},
   "cell_type": "markdown",
   "source": "Cette colonne contient des valeurs pas très cohérentes, voire incompréhensibles. On pourrait la supprimer, mais elle contient quand même une information importante : le nombre d'arrêts pendant le vol. On va donc transformer cette colonne pour obtenir des valeurs plus exploitables.",
   "id": "62f69c4097017f25"
  },
  {
   "metadata": {
    "ExecuteTime": {
     "end_time": "2025-05-23T16:42:40.871024Z",
     "start_time": "2025-05-23T16:42:40.844966Z"
    }
   },
   "cell_type": "code",
   "source": [
    "def transform(value:str) -> str :\n",
    "    if value[0] == '1':\n",
    "        value = '1-stop'\n",
    "    elif value[0] == '2':\n",
    "        value = '>= 2-stop'\n",
    "    elif value[0] == 'n':\n",
    "        value = '0-stop'\n",
    "    else: value = np.nan\n",
    "\n",
    "    return value\n",
    "\n",
    "data['stop'] = data['stop'].apply(transform)"
   ],
   "id": "6e0d8c37cfbdc12e",
   "outputs": [],
   "execution_count": 39
  },
  {
   "metadata": {
    "ExecuteTime": {
     "end_time": "2025-05-23T16:42:40.917465Z",
     "start_time": "2025-05-23T16:42:40.914097Z"
    }
   },
   "cell_type": "code",
   "source": "data['stop'].head()",
   "id": "66f42db572100985",
   "outputs": [
    {
     "data": {
      "text/plain": [
       "0    0-stop\n",
       "1    0-stop\n",
       "2    1-stop\n",
       "3    1-stop\n",
       "4    1-stop\n",
       "Name: stop, dtype: object"
      ]
     },
     "execution_count": 40,
     "metadata": {},
     "output_type": "execute_result"
    }
   ],
   "execution_count": 40
  },
  {
   "metadata": {},
   "cell_type": "markdown",
   "source": "On vérifie à présent s'il n'y a pas d'anomalies au niveau des variables quantitatives",
   "id": "12f9915d71c93338"
  },
  {
   "metadata": {
    "ExecuteTime": {
     "end_time": "2025-05-23T16:42:41.003706Z",
     "start_time": "2025-05-23T16:42:40.981268Z"
    }
   },
   "cell_type": "code",
   "source": "data.describe()",
   "id": "e2807efd21c787cf",
   "outputs": [
    {
     "data": {
      "text/plain": [
       "                                date                 time_taken          price\n",
       "count                         300261                     300257  300261.000000\n",
       "mean   2022-03-08 00:06:26.447790336  0 days 12:13:04.462976716   20883.717666\n",
       "min              2022-02-11 00:00:00            0 days 00:50:00    1105.000000\n",
       "25%              2022-02-25 00:00:00            0 days 06:45:00    4783.000000\n",
       "50%              2022-03-08 00:00:00            0 days 11:15:00    7425.000000\n",
       "75%              2022-03-20 00:00:00            0 days 16:10:00   42521.000000\n",
       "max              2022-03-31 00:00:00            2 days 01:50:00  123071.000000\n",
       "std                              NaN  0 days 07:11:34.327426346   22695.911266"
      ],
      "text/html": [
       "<div>\n",
       "<style scoped>\n",
       "    .dataframe tbody tr th:only-of-type {\n",
       "        vertical-align: middle;\n",
       "    }\n",
       "\n",
       "    .dataframe tbody tr th {\n",
       "        vertical-align: top;\n",
       "    }\n",
       "\n",
       "    .dataframe thead th {\n",
       "        text-align: right;\n",
       "    }\n",
       "</style>\n",
       "<table border=\"1\" class=\"dataframe\">\n",
       "  <thead>\n",
       "    <tr style=\"text-align: right;\">\n",
       "      <th></th>\n",
       "      <th>date</th>\n",
       "      <th>time_taken</th>\n",
       "      <th>price</th>\n",
       "    </tr>\n",
       "  </thead>\n",
       "  <tbody>\n",
       "    <tr>\n",
       "      <th>count</th>\n",
       "      <td>300261</td>\n",
       "      <td>300257</td>\n",
       "      <td>300261.000000</td>\n",
       "    </tr>\n",
       "    <tr>\n",
       "      <th>mean</th>\n",
       "      <td>2022-03-08 00:06:26.447790336</td>\n",
       "      <td>0 days 12:13:04.462976716</td>\n",
       "      <td>20883.717666</td>\n",
       "    </tr>\n",
       "    <tr>\n",
       "      <th>min</th>\n",
       "      <td>2022-02-11 00:00:00</td>\n",
       "      <td>0 days 00:50:00</td>\n",
       "      <td>1105.000000</td>\n",
       "    </tr>\n",
       "    <tr>\n",
       "      <th>25%</th>\n",
       "      <td>2022-02-25 00:00:00</td>\n",
       "      <td>0 days 06:45:00</td>\n",
       "      <td>4783.000000</td>\n",
       "    </tr>\n",
       "    <tr>\n",
       "      <th>50%</th>\n",
       "      <td>2022-03-08 00:00:00</td>\n",
       "      <td>0 days 11:15:00</td>\n",
       "      <td>7425.000000</td>\n",
       "    </tr>\n",
       "    <tr>\n",
       "      <th>75%</th>\n",
       "      <td>2022-03-20 00:00:00</td>\n",
       "      <td>0 days 16:10:00</td>\n",
       "      <td>42521.000000</td>\n",
       "    </tr>\n",
       "    <tr>\n",
       "      <th>max</th>\n",
       "      <td>2022-03-31 00:00:00</td>\n",
       "      <td>2 days 01:50:00</td>\n",
       "      <td>123071.000000</td>\n",
       "    </tr>\n",
       "    <tr>\n",
       "      <th>std</th>\n",
       "      <td>NaN</td>\n",
       "      <td>0 days 07:11:34.327426346</td>\n",
       "      <td>22695.911266</td>\n",
       "    </tr>\n",
       "  </tbody>\n",
       "</table>\n",
       "</div>"
      ]
     },
     "execution_count": 41,
     "metadata": {},
     "output_type": "execute_result"
    }
   ],
   "execution_count": 41
  },
  {
   "metadata": {},
   "cell_type": "markdown",
   "source": "La variable `time_taken` semble avoir 4 valeurs manquantes. Sinon tout a l'air correcte pour les autres variables. On supprimera les lignes contenant les valeurs manquantes.",
   "id": "3c57e151dfee8af4"
  },
  {
   "metadata": {
    "ExecuteTime": {
     "end_time": "2025-05-23T16:42:41.135281Z",
     "start_time": "2025-05-23T16:42:41.047111Z"
    }
   },
   "cell_type": "code",
   "source": "data.dropna(ignore_index=True, inplace=True)",
   "id": "523e9e88dd24fb75",
   "outputs": [],
   "execution_count": 42
  },
  {
   "metadata": {
    "ExecuteTime": {
     "end_time": "2025-05-23T16:43:21.087077Z",
     "start_time": "2025-05-23T16:43:20.852645Z"
    }
   },
   "cell_type": "code",
   "source": [
    "print(\"Nombre de valeurs manquantes:\\n\", data.isnull().sum())\n",
    "print(\"\\nNombre de doublons: \", data.duplicated().sum())\n",
    "data.drop_duplicates(inplace=True)"
   ],
   "id": "3afcd17f593bcb35",
   "outputs": [
    {
     "name": "stdout",
     "output_type": "stream",
     "text": [
      "Nombre de valeurs manquantes:\n",
      " date          0\n",
      "airline       0\n",
      "dep_time      0\n",
      "from          0\n",
      "time_taken    0\n",
      "stop          0\n",
      "arr_time      0\n",
      "to            0\n",
      "price         0\n",
      "class         0\n",
      "dtype: int64\n",
      "\n",
      "Nombre de doublons:  0\n"
     ]
    }
   ],
   "execution_count": 47
  },
  {
   "metadata": {
    "ExecuteTime": {
     "end_time": "2025-05-23T16:42:41.497210Z",
     "start_time": "2025-05-23T16:42:41.416508Z"
    }
   },
   "cell_type": "code",
   "source": "data.duplicated().sum()",
   "id": "da63b0a1fb533d57",
   "outputs": [
    {
     "data": {
      "text/plain": [
       "np.int64(0)"
      ]
     },
     "execution_count": 44,
     "metadata": {},
     "output_type": "execute_result"
    }
   ],
   "execution_count": 44
  },
  {
   "metadata": {},
   "cell_type": "markdown",
   "source": "Plus de valeurs manquantes et de doublon détecté. On peut enfin sauvegarder nos données néttoyées.",
   "id": "fbd5980800315e49"
  },
  {
   "metadata": {
    "ExecuteTime": {
     "end_time": "2025-05-23T16:42:41.558683Z",
     "start_time": "2025-05-23T16:42:41.501716Z"
    }
   },
   "cell_type": "code",
   "source": "data.info()",
   "id": "3195c0dfa91feb62",
   "outputs": [
    {
     "name": "stdout",
     "output_type": "stream",
     "text": [
      "<class 'pandas.core.frame.DataFrame'>\n",
      "Index: 300182 entries, 0 to 300256\n",
      "Data columns (total 10 columns):\n",
      " #   Column      Non-Null Count   Dtype          \n",
      "---  ------      --------------   -----          \n",
      " 0   date        300182 non-null  datetime64[ns] \n",
      " 1   airline     300182 non-null  object         \n",
      " 2   dep_time    300182 non-null  object         \n",
      " 3   from        300182 non-null  object         \n",
      " 4   time_taken  300182 non-null  timedelta64[ns]\n",
      " 5   stop        300182 non-null  object         \n",
      " 6   arr_time    300182 non-null  object         \n",
      " 7   to          300182 non-null  object         \n",
      " 8   price       300182 non-null  int64          \n",
      " 9   class       300182 non-null  object         \n",
      "dtypes: datetime64[ns](1), int64(1), object(7), timedelta64[ns](1)\n",
      "memory usage: 25.2+ MB\n"
     ]
    }
   ],
   "execution_count": 45
  },
  {
   "metadata": {
    "ExecuteTime": {
     "end_time": "2025-05-23T16:44:22.613841Z",
     "start_time": "2025-05-23T16:44:20.565136Z"
    }
   },
   "cell_type": "code",
   "source": "data.to_csv('../output/cleaned_data/data_cleaned.csv', index=False)",
   "id": "294d8784480dcec9",
   "outputs": [],
   "execution_count": 48
  }
 ],
 "metadata": {
  "kernelspec": {
   "display_name": "Python 3",
   "language": "python",
   "name": "python3"
  },
  "language_info": {
   "codemirror_mode": {
    "name": "ipython",
    "version": 2
   },
   "file_extension": ".py",
   "mimetype": "text/x-python",
   "name": "python",
   "nbconvert_exporter": "python",
   "pygments_lexer": "ipython2",
   "version": "2.7.6"
  }
 },
 "nbformat": 4,
 "nbformat_minor": 5
}
