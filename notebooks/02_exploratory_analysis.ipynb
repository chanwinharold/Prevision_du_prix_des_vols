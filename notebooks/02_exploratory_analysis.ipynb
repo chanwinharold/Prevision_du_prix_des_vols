{
 "cells": [
  {
   "metadata": {},
   "cell_type": "markdown",
   "source": "# Analyse exploratoire des données",
   "id": "760a5c4162908cc3"
  },
  {
   "cell_type": "code",
   "id": "initial_id",
   "metadata": {
    "collapsed": true,
    "ExecuteTime": {
     "end_time": "2025-05-23T16:44:29.707758Z",
     "start_time": "2025-05-23T16:44:29.701782Z"
    }
   },
   "source": [
    "# Importation des librairies\n",
    "import pandas as pd\n",
    "import numpy as np\n",
    "from scipy.stats import *\n",
    "import matplotlib.pyplot as plt\n",
    "import seaborn as sns"
   ],
   "outputs": [],
   "execution_count": 4
  },
  {
   "metadata": {
    "ExecuteTime": {
     "end_time": "2025-05-23T16:44:31.825916Z",
     "start_time": "2025-05-23T16:44:31.600011Z"
    }
   },
   "cell_type": "code",
   "source": [
    "data = pd.read_csv('../output/cleaned_data/data_cleaned.csv', parse_dates=['date'])\n",
    "data.head()"
   ],
   "id": "38b1b676f5ae7d03",
   "outputs": [
    {
     "data": {
      "text/plain": [
       "        date    airline  dep_time   from       time_taken    stop  arr_time  \\\n",
       "0 2022-02-11  Air India  18:00:00  Delhi  0 days 02:00:00  0-stop  20:00:00   \n",
       "1 2022-02-11  Air India  19:00:00  Delhi  0 days 02:15:00  0-stop  21:15:00   \n",
       "2 2022-02-11  Air India  20:00:00  Delhi  1 days 00:45:00  1-stop  20:45:00   \n",
       "3 2022-02-11  Air India  21:25:00  Delhi  1 days 02:30:00  1-stop  23:55:00   \n",
       "4 2022-02-11  Air India  17:15:00  Delhi  0 days 06:40:00  1-stop  23:55:00   \n",
       "\n",
       "       to  price     class  \n",
       "0  Mumbai  25612  business  \n",
       "1  Mumbai  25612  business  \n",
       "2  Mumbai  42220  business  \n",
       "3  Mumbai  44450  business  \n",
       "4  Mumbai  46690  business  "
      ],
      "text/html": [
       "<div>\n",
       "<style scoped>\n",
       "    .dataframe tbody tr th:only-of-type {\n",
       "        vertical-align: middle;\n",
       "    }\n",
       "\n",
       "    .dataframe tbody tr th {\n",
       "        vertical-align: top;\n",
       "    }\n",
       "\n",
       "    .dataframe thead th {\n",
       "        text-align: right;\n",
       "    }\n",
       "</style>\n",
       "<table border=\"1\" class=\"dataframe\">\n",
       "  <thead>\n",
       "    <tr style=\"text-align: right;\">\n",
       "      <th></th>\n",
       "      <th>date</th>\n",
       "      <th>airline</th>\n",
       "      <th>dep_time</th>\n",
       "      <th>from</th>\n",
       "      <th>time_taken</th>\n",
       "      <th>stop</th>\n",
       "      <th>arr_time</th>\n",
       "      <th>to</th>\n",
       "      <th>price</th>\n",
       "      <th>class</th>\n",
       "    </tr>\n",
       "  </thead>\n",
       "  <tbody>\n",
       "    <tr>\n",
       "      <th>0</th>\n",
       "      <td>2022-02-11</td>\n",
       "      <td>Air India</td>\n",
       "      <td>18:00:00</td>\n",
       "      <td>Delhi</td>\n",
       "      <td>0 days 02:00:00</td>\n",
       "      <td>0-stop</td>\n",
       "      <td>20:00:00</td>\n",
       "      <td>Mumbai</td>\n",
       "      <td>25612</td>\n",
       "      <td>business</td>\n",
       "    </tr>\n",
       "    <tr>\n",
       "      <th>1</th>\n",
       "      <td>2022-02-11</td>\n",
       "      <td>Air India</td>\n",
       "      <td>19:00:00</td>\n",
       "      <td>Delhi</td>\n",
       "      <td>0 days 02:15:00</td>\n",
       "      <td>0-stop</td>\n",
       "      <td>21:15:00</td>\n",
       "      <td>Mumbai</td>\n",
       "      <td>25612</td>\n",
       "      <td>business</td>\n",
       "    </tr>\n",
       "    <tr>\n",
       "      <th>2</th>\n",
       "      <td>2022-02-11</td>\n",
       "      <td>Air India</td>\n",
       "      <td>20:00:00</td>\n",
       "      <td>Delhi</td>\n",
       "      <td>1 days 00:45:00</td>\n",
       "      <td>1-stop</td>\n",
       "      <td>20:45:00</td>\n",
       "      <td>Mumbai</td>\n",
       "      <td>42220</td>\n",
       "      <td>business</td>\n",
       "    </tr>\n",
       "    <tr>\n",
       "      <th>3</th>\n",
       "      <td>2022-02-11</td>\n",
       "      <td>Air India</td>\n",
       "      <td>21:25:00</td>\n",
       "      <td>Delhi</td>\n",
       "      <td>1 days 02:30:00</td>\n",
       "      <td>1-stop</td>\n",
       "      <td>23:55:00</td>\n",
       "      <td>Mumbai</td>\n",
       "      <td>44450</td>\n",
       "      <td>business</td>\n",
       "    </tr>\n",
       "    <tr>\n",
       "      <th>4</th>\n",
       "      <td>2022-02-11</td>\n",
       "      <td>Air India</td>\n",
       "      <td>17:15:00</td>\n",
       "      <td>Delhi</td>\n",
       "      <td>0 days 06:40:00</td>\n",
       "      <td>1-stop</td>\n",
       "      <td>23:55:00</td>\n",
       "      <td>Mumbai</td>\n",
       "      <td>46690</td>\n",
       "      <td>business</td>\n",
       "    </tr>\n",
       "  </tbody>\n",
       "</table>\n",
       "</div>"
      ]
     },
     "execution_count": 5,
     "metadata": {},
     "output_type": "execute_result"
    }
   ],
   "execution_count": 5
  },
  {
   "metadata": {
    "ExecuteTime": {
     "end_time": "2025-05-23T16:44:42.718731Z",
     "start_time": "2025-05-23T16:44:42.659560Z"
    }
   },
   "cell_type": "code",
   "source": "data.info()",
   "id": "e50756a260e28265",
   "outputs": [
    {
     "name": "stdout",
     "output_type": "stream",
     "text": [
      "<class 'pandas.core.frame.DataFrame'>\n",
      "RangeIndex: 300182 entries, 0 to 300181\n",
      "Data columns (total 10 columns):\n",
      " #   Column      Non-Null Count   Dtype         \n",
      "---  ------      --------------   -----         \n",
      " 0   date        300182 non-null  datetime64[ns]\n",
      " 1   airline     300182 non-null  object        \n",
      " 2   dep_time    300182 non-null  object        \n",
      " 3   from        300182 non-null  object        \n",
      " 4   time_taken  300182 non-null  object        \n",
      " 5   stop        300182 non-null  object        \n",
      " 6   arr_time    300182 non-null  object        \n",
      " 7   to          300182 non-null  object        \n",
      " 8   price       300182 non-null  int64         \n",
      " 9   class       300182 non-null  object        \n",
      "dtypes: datetime64[ns](1), int64(1), object(8)\n",
      "memory usage: 22.9+ MB\n"
     ]
    }
   ],
   "execution_count": 6
  },
  {
   "metadata": {},
   "cell_type": "markdown",
   "source": "## Analyse Univariée",
   "id": "4bf3eda5f1d7aa9c"
  },
  {
   "metadata": {},
   "cell_type": "markdown",
   "source": "### Variables qualitatives",
   "id": "39c33cd1452f9974"
  }
 ],
 "metadata": {
  "kernelspec": {
   "display_name": "Python 3",
   "language": "python",
   "name": "python3"
  },
  "language_info": {
   "codemirror_mode": {
    "name": "ipython",
    "version": 2
   },
   "file_extension": ".py",
   "mimetype": "text/x-python",
   "name": "python",
   "nbconvert_exporter": "python",
   "pygments_lexer": "ipython2",
   "version": "2.7.6"
  }
 },
 "nbformat": 4,
 "nbformat_minor": 5
}
